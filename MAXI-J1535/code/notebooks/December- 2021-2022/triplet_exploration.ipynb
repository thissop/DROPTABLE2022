{
  "nbformat": 4,
  "nbformat_minor": 0,
  "metadata": {
    "colab": {
      "name": "triplet_exploration.ipynb",
      "provenance": [],
      "machine_shape": "hm",
      "authorship_tag": "ABX9TyOIgN2Xum72caMxqY90dnd4",
      "include_colab_link": true
    },
    "kernelspec": {
      "name": "python3",
      "display_name": "Python 3"
    },
    "language_info": {
      "name": "python"
    }
  },
  "cells": [
    {
      "cell_type": "markdown",
      "metadata": {
        "id": "view-in-github",
        "colab_type": "text"
      },
      "source": [
        "<a href=\"https://colab.research.google.com/github/thissop/DROPTABLE2022/blob/main/MAXI-J1535/code/notebooks/December-%202021-2022/triplet_exploration.ipynb\" target=\"_parent\"><img src=\"https://colab.research.google.com/assets/colab-badge.svg\" alt=\"Open In Colab\"/></a>"
      ]
    },
    {
      "cell_type": "markdown",
      "source": [
        "# Notes\n",
        "\n",
        "## Questions\n",
        "* I wonder if my data is linearly seperatable\n",
        "* I also wonder if it would benefit from dimensionality reduction (I don't think so though, because wouldn't the incorporation of noisy, non informative features like $T_{in}$ make the reduced distribution noisy as well, thus clouding the informative information derived from hardness and intensity\n",
        "\n",
        "## Tasks\n",
        "* **During CSA:** set up pipelines for k-fold cross validation, pipelines for grid searches for all models, pipelines for changing the data based on the model being used (e.g. dropping rows, missing data, binary flags), etc.  \n",
        "\n",
        "## Models\n",
        "\n",
        "* **SVM**\n",
        "    * **General Plan**: multi-output chaining with bad rows dropped and with bad rows kept\n",
        "    * Whereas models like Naive-Bayes are examples of generative classification (because they attempt to model different classes), models like SVM are called discriminative classifiers because they simply try to divide the classes from eachother (in this case by finding lines/curves in 2D or manifolds in multiple dimensions that split them). \n",
        "    * SVM is an example of a maximum margin estimator. \n",
        "    * the support vectors are the points that touch the margins. No other points matter in the distribution besides these according to SVM\n",
        "    * the ```c``` parameter modulates the \"hardness\" of the svm margins...if it's low then the margins are said to be \"soft\" and thus can have more points in them...otherwise if it's high then the margins are said to be \"hard\" and less points can be in them. \n",
        "    * Need to read more about the kernel trick i.e. kernel method\n",
        "    *\n"
      ],
      "metadata": {
        "id": "T21LZdBjMTYh"
      }
    },
    {
      "cell_type": "code",
      "source": [
        "import pandas as pd\n",
        "import numpy as np\n",
        "import matplotlib.pyplot as plt\n",
        "from sklearn.preprocessing import minmax_scale as normalize\n",
        "from sklearn.model_selection import train_test_split\n",
        "from sklearn.neighbors import KNeighborsClassifier\n",
        "from sklearn.metrics import accuracy_score, mean_squared_error, median_absolute_error\n",
        "from sklearn.ensemble import RandomForestRegressor\n",
        "from sklearn.multioutput import RegressorChain\n",
        "from sklearn.svm import SVR\n",
        "from sklearn.svm import LinearSVR\n",
        "\n",
        "\n",
        "plt.style.use('seaborn-darkgrid')\n",
        "plt.rcParams['font.family']='serif'\n",
        "plt.rcParams['figure.dpi']=150\n",
        "\n",
        "data_df = pd.read_csv('https://raw.githubusercontent.com/thissop/MAXI-J1535/main/data/processed/fixed_merged.csv?token=AQN5JT7ZW3ZKV5EKEEUCVITB3RP4Y')"
      ],
      "metadata": {
        "id": "tBVldoAyxV6m"
      },
      "execution_count": 1,
      "outputs": []
    },
    {
      "cell_type": "code",
      "source": [
        "# Split data into qpo present and qpo absent \n",
        "\n",
        "no_qpo_idx = np.where(data_df['first_par1s']==0)[0]\n",
        "has_qpo_idx = np.where(data_df['first_par1s']!=0)[0]\n",
        "\n",
        "has_qpo_df = data_df.iloc[has_qpo_idx, :].sample(frac=1)\n",
        "no_qpo_df = data_df.iloc[no_qpo_idx, :].sample(frac=1)\n",
        "\n",
        "print(len(has_qpo_df.index))"
      ],
      "metadata": {
        "colab": {
          "base_uri": "https://localhost:8080/"
        },
        "id": "o4cgVxB5yquA",
        "outputId": "efb86b4f-7d4d-4019-9537-cbbc46adc74a"
      },
      "execution_count": 2,
      "outputs": [
        {
          "output_type": "stream",
          "name": "stdout",
          "text": [
            "57\n"
          ]
        }
      ]
    },
    {
      "cell_type": "code",
      "source": [
        "# prepare data for analysis\n",
        "\n",
        "# QPO DATA\n",
        "\n",
        "# X\n",
        "\n",
        "arr_names =  ['hardness', 'tins', 'disk_norm', 'gammas', 'nthcomp_norms', 'intensities']\n",
        "(hardness, tins, disk_norms, gammas, nthcomp_norms, intensities) = (normalize(np.array(has_qpo_df[arr_name])) for arr_name in arr_names)\n",
        "\n",
        "## Stack x values\n",
        "x_vals = np.array([], dtype=np.int64).reshape(0,6) # why are they type int\n",
        "\n",
        "for a, b, c, d, e, f in zip(hardness, tins, disk_norms, gammas, nthcomp_norms, intensities): \n",
        "    new_arr = np.array([float(a), float(b), float(c), float(d), float(e), float(f)])\n",
        "    x_vals = np.vstack([x_vals, new_arr])\n",
        "\n",
        "# num QPOS\n",
        "num_qpos = np.array(has_qpo_df['num_qpos']).reshape(len(has_qpo_df), 1).astype(int)\n",
        "\n",
        "# Y \n",
        "y_vals = np.array([], dtype=np.float32).reshape(0, 3)\n",
        "\n",
        "freq1s, freq2s, freq3s = (normalize(np.array(has_qpo_df[arr_name])) for arr_name in ['first_par1s', 'second_par1s', 'third_par1s'])\n",
        "\n",
        "for freq1, freq2, freq3 in zip(freq1s, freq2s, freq3s): \n",
        "    new_arr = np.array([float(freq1), float(freq2), float(freq3)])\n",
        "    y_vals = np.vstack([y_vals, new_arr])\n",
        "\n",
        "# NO QPO DATA\n",
        "\n",
        "# X\n",
        "\n",
        "arr_names =  ['hardness', 'tins', 'disk_norm', 'gammas', 'nthcomp_norms', 'intensities']\n",
        "(hardness_no_qpo, tins_no_qpo, disk_norms_no_qpo, gammas_no_qpo, nthcomp_norms_no_qpo, intensities_no_qpo) = (normalize(np.array(no_qpo_df[arr_name])) for arr_name in arr_names)\n",
        "\n",
        "## Stack x values\n",
        "x_vals_no_qpo = np.array([], dtype=np.int64).reshape(0,6) # why are they type int\n",
        "\n",
        "for a, b, c, d, e, f in zip(hardness_no_qpo, tins_no_qpo, disk_norms_no_qpo, gammas_no_qpo, nthcomp_norms_no_qpo, intensities_no_qpo): \n",
        "    new_arr = np.array([float(a), float(b), float(c), float(d), float(e), float(f)])\n",
        "    x_vals_no_qpo = np.vstack([x_vals_no_qpo, new_arr])\n",
        "\n",
        "# num QPOS\n",
        "num_qpos_no_qpo = np.array(no_qpo_df['num_qpos']).reshape(len(no_qpo_df), 1).astype(int)\n",
        "\n",
        "# Y \n",
        "y_vals_no_qpo = np.array([], dtype=np.float32).reshape(0, 3)\n",
        "\n",
        "freq1s_no_qpo, freq2s_no_qpo, freq3s_no_qpo = (normalize(np.array(no_qpo_df[arr_name])) for arr_name in ['first_par1s', 'second_par1s', 'third_par1s'])\n",
        "\n",
        "for freq1, freq2, freq3 in zip(freq1s_no_qpo, freq2s_no_qpo, freq3s_no_qpo): \n",
        "    new_arr = np.array([float(freq1), float(freq2), float(freq3)])\n",
        "    y_vals_no_qpo = np.vstack([y_vals_no_qpo, new_arr])"
      ],
      "metadata": {
        "id": "zV1BFL4ryrwZ"
      },
      "execution_count": 3,
      "outputs": []
    },
    {
      "cell_type": "code",
      "source": [
        "# General functions\n",
        "\n",
        "def split_data(x_vals, y_vals, num_qpos): \n",
        "    # Train test split\n",
        "    X_train, X_test, y_train, y_test, qpo_train, qpo_test = train_test_split(x_vals, y_vals, num_qpos, test_size=0.1)\n",
        "    return X_train, X_test, y_train, y_test, qpo_train, qpo_test\n",
        "\n",
        "def knn_predict(k, xtrain, ytrain, xtest, ytest): \n",
        "    knn = KNeighborsClassifier(k)\n",
        "    knn.fit(xtrain, ytrain)\n",
        "    predictions = knn.predict(xtest)\n",
        "    acc = accuracy_score(predictions, ytest.flatten())\n",
        "\n",
        "    return acc, predictions\n",
        "\n",
        "def cullBuffers(x, qpo_classes):\n",
        "    new_x = np.array([], dtype=np.float64).reshape(0,3)\n",
        "    for x_row, qpo_class in zip(x, qpo_classes): \n",
        "        if qpo_class == 0: \n",
        "            new_x = np.vstack([new_x, np.zeros(3)])\n",
        "\n",
        "        elif qpo_class == 1:\n",
        "            new_x = np.vstack([new_x, [x_row[0], 0, 0]])\n",
        "\n",
        "        elif qpo_class == 2: \n",
        "            new_x = np.vstack([new_x, [x_row[0], x_row[1], 0]])\n",
        "\n",
        "        elif qpo_class == 3: \n",
        "            new_x = np.vstack([new_x, x_row[0:3]])\n",
        "\n",
        "    return new_x\n",
        "\n",
        "def drop_no_qpo(X_test, y_test, knn_qpo_predictions): \n",
        "    non_zero_indices = np.where(knn_qpo_predictions!=0)\n",
        "    return X_test[non_zero_indices], y_test[non_zero_indices]"
      ],
      "metadata": {
        "id": "IWu-oYZjyuJ9"
      },
      "execution_count": 4,
      "outputs": []
    },
    {
      "cell_type": "code",
      "source": [
        "# train test splitting and combining\n",
        "\n",
        "X_train, X_test, y_train, y_test, qpo_train, qpo_test = split_data(x_vals, y_vals, num_qpos) \n",
        "X_train_no_qpo, X_test_no_qpo, y_train_no_qpo, y_test_no_qpo, qpo_train_no_qpo, qpo_test_no_qpo = split_data(x_vals_no_qpo, y_vals_no_qpo, num_qpos_no_qpo) \n",
        "\n",
        "X_train_combined = np.concatenate((X_train, X_train_no_qpo))\n",
        "X_test_combined = np.concatenate((X_test, X_test_no_qpo))\n",
        "qpo_train_combined = np.concatenate((qpo_train, qpo_train_no_qpo))\n",
        "qpo_test_combined = np.concatenate((qpo_test, qpo_test_no_qpo))\n",
        "\n",
        "y_test_combined = np.concatenate((y_test, y_test_no_qpo))"
      ],
      "metadata": {
        "id": "8HQKWT7KywU9"
      },
      "execution_count": 5,
      "outputs": []
    },
    {
      "cell_type": "code",
      "source": [
        "knn_acc, knn_predictions = knn_predict(7, X_train_combined, qpo_train_combined, X_test_combined, qpo_test_combined)\n",
        "\n",
        "knn_predictions = knn_predictions.flatten().astype(int)\n",
        "knn_predictions\n",
        "knn_acc"
      ],
      "metadata": {
        "colab": {
          "base_uri": "https://localhost:8080/"
        },
        "id": "-eCcMC0Xyyea",
        "outputId": "ae7d6d54-5a3f-4167-fa3a-7479dad6f8b0"
      },
      "execution_count": 7,
      "outputs": [
        {
          "output_type": "stream",
          "name": "stderr",
          "text": [
            "/usr/local/lib/python3.7/dist-packages/sklearn/neighbors/_classification.py:198: DataConversionWarning: A column-vector y was passed when a 1d array was expected. Please change the shape of y to (n_samples,), for example using ravel().\n",
            "  return self._fit(X, y)\n"
          ]
        },
        {
          "output_type": "execute_result",
          "data": {
            "text/plain": [
              "0.9473684210526315"
            ]
          },
          "metadata": {},
          "execution_count": 7
        }
      ]
    },
    {
      "cell_type": "code",
      "source": [
        "# Test some classifier models\n",
        "from sklearn.gaussian_process import GaussianProcessClassifier\n",
        "from sklearn.naive_bayes import GaussianNB\n",
        "from sklearn.ensemble import RandomForestClassifier, AdaBoostClassifier\n",
        "from sklearn.neural_network import MLPClassifier\n",
        "from sklearn.neighbors import KNeighborsClassifier\n",
        "from astropy.stats import sigma_clipped_stats\n",
        "from sklearn.tree import DecisionTreeClassifier\n",
        "\n",
        "\n",
        "for model in [GaussianNB, GaussianProcessClassifier, DecisionTreeClassifier, AdaBoostClassifier, KNeighborsClassifier, RandomForestClassifier]: \n",
        "    model_name = str(model).split('\\'')[1:2][0].split('.')[-1]\n",
        "\n",
        "    clf = model()\n",
        "    \n",
        "    accs_arr = []\n",
        "    \n",
        "    n=100\n",
        "    for i in range(n): \n",
        "        X_train, X_test, y_train, y_test, qpo_train, qpo_test = split_data(x_vals, y_vals, num_qpos) \n",
        "        X_train_no_qpo, X_test_no_qpo, y_train_no_qpo, y_test_no_qpo, qpo_train_no_qpo, qpo_test_no_qpo = split_data(x_vals_no_qpo, y_vals_no_qpo, num_qpos_no_qpo) \n",
        "        X_train_combined = np.concatenate((X_train, X_train_no_qpo))\n",
        "        X_test_combined = np.concatenate((X_test, X_test_no_qpo))\n",
        "        qpo_train_combined = np.concatenate((qpo_train, qpo_train_no_qpo))\n",
        "        qpo_test_combined = np.concatenate((qpo_test, qpo_test_no_qpo))\n",
        "        y_test_combined = np.concatenate((y_test, y_test_no_qpo))\n",
        "\n",
        "        clf.fit(X_train_combined, np.ravel(qpo_train_combined))\n",
        "        clf_predictions = clf.predict(X_test_combined)\n",
        "        accs_arr.append(accuracy_score(clf_predictions, qpo_test_combined))\n",
        "\n",
        "    acc = sum(accs_arr)/n\n",
        "    clipped_acc = sigma_clipped_stats(accs_arr, sigma=3)[0]\n",
        "\n",
        "    print(model_name+' (acc): '+str(acc)+' (clipped): '+str(clipped_acc))"
      ],
      "metadata": {
        "colab": {
          "base_uri": "https://localhost:8080/"
        },
        "id": "xSeWGXjPDN82",
        "outputId": "8474e3f5-3160-4227-bf60-752767ac28ad"
      },
      "execution_count": 37,
      "outputs": [
        {
          "output_type": "stream",
          "name": "stdout",
          "text": [
            "GaussianNB (acc): 0.7331578947368423 (clipped): 0.7331578947368423\n",
            "GaussianProcessClassifier (acc): 0.8678947368421046 (clipped): 0.8678947368421046\n",
            "DecisionTreeClassifier (acc): 0.9047368421052623 (clipped): 0.9047368421052623\n",
            "AdaBoostClassifier (acc): 0.7647368421052634 (clipped): 0.7647368421052634\n",
            "KNeighborsClassifier (acc): 0.9131578947368411 (clipped): 0.9131578947368411\n",
            "RandomForestClassifier (acc): 0.9189473684210515 (clipped): 0.9189473684210515\n"
          ]
        }
      ]
    },
    {
      "cell_type": "code",
      "source": [
        "from sklearn.gaussian_process.kernels import RBF, DotProduct, Matern, RationalQuadratic, WhiteKernel\n",
        "kernels = [RBF, DotProduct, Matern, RationalQuadratic, WhiteKernel]\n",
        "names = ['RBF', 'DotProduct', 'Matern', 'RationalQuadratic', 'WhiteKernel']\n",
        "for kernel in kernels: \n",
        "    kernel = 1.0*kernel(1.0)\n",
        "    clf = GaussianProcessClassifier(kernel=kernel)\n",
        "    clf.fit(X_train_combined, np.ravel(qpo_train_combined))\n",
        "    clf_predictions = clf.predict(X_test_combined)\n",
        "    acc = accuracy_score(clf_predictions, qpo_test_combined)\n",
        "    print(kernel,acc)"
      ],
      "metadata": {
        "colab": {
          "base_uri": "https://localhost:8080/"
        },
        "id": "NX3zPqGwLZcU",
        "outputId": "da8476a7-0406-4bd6-ae58-b7d9a3ed546e"
      },
      "execution_count": 40,
      "outputs": [
        {
          "output_type": "stream",
          "name": "stdout",
          "text": [
            "1**2 * RBF(length_scale=1) 0.8947368421052632\n",
            "1**2 * DotProduct(sigma_0=1) 0.8421052631578947\n",
            "1**2 * Matern(length_scale=1, nu=1.5) 0.8947368421052632\n"
          ]
        },
        {
          "output_type": "stream",
          "name": "stderr",
          "text": [
            "/usr/local/lib/python3.7/dist-packages/sklearn/gaussian_process/kernels.py:437: ConvergenceWarning: The optimal value found for dimension 0 of parameter k2__alpha is close to the specified upper bound 100000.0. Increasing the bound and calling fit again may find a better value.\n",
            "  ConvergenceWarning,\n"
          ]
        },
        {
          "output_type": "stream",
          "name": "stdout",
          "text": [
            "1**2 * RationalQuadratic(alpha=1, length_scale=1) 0.8947368421052632\n",
            "1**2 * WhiteKernel(noise_level=1) 0.05263157894736842\n"
          ]
        }
      ]
    },
    {
      "cell_type": "markdown",
      "source": [
        "## SVM"
      ],
      "metadata": {
        "id": "rN3wGO3axWT1"
      }
    },
    {
      "cell_type": "code",
      "source": [
        "svr_rbf = SVR(kernel=\"rbf\", C=100, gamma=0.1, epsilon=0.1)\n",
        "svr_lin = SVR(kernel=\"linear\", C=100, gamma=\"auto\")\n",
        "svr_poly = SVR(kernel=\"poly\", C=100, gamma=\"auto\", degree=3, epsilon=0.1, coef0=1)\n",
        "\n",
        "svrs = [svr_rbf, svr_lin, svr_poly]\n",
        "kernel_label = [\"RBF\", \"Linear\", \"Polynomial\"]\n",
        "model_color = [\"m\", \"c\", \"g\"]"
      ],
      "metadata": {
        "id": "cvo9N3sLxXAw"
      },
      "execution_count": null,
      "outputs": []
    },
    {
      "cell_type": "code",
      "source": [
        "kernel='poly' # default is rbf, default poly degree is 3\n",
        "\n",
        "#model = SVR()\n",
        "\n",
        "model = LinearSVR()\n",
        "\n",
        "wrapper = RegressorChain(model, order=[0,1,2])\n",
        "\n",
        "wrapper.fit(X_train,y_train)\n",
        "\n",
        "x_test_no_qpo_predicted, y_test_no_qpo_predicted = drop_no_qpo(X_test_combined, y_test_combined, knn_predictions)\n",
        "\n",
        "chained_predictions = cullBuffers(wrapper.predict(x_test_no_qpo_predicted), knn_predictions).flatten()\n",
        "\n",
        "mse = mean_squared_error(y_test_no_qpo_predicted.flatten(), chained_predictions)\n",
        "mae = median_absolute_error(y_test_no_qpo_predicted.flatten(), chained_predictions)\n",
        "\n",
        "fig, ax = plt.subplots()\n",
        "\n",
        "line_label = 'mse: '+str(round(mse, 3))+'\\n'+'mae: '+str(round(mae, 3))\n",
        "ax.plot([0,1], [0,1], label=line_label)\n",
        "ax.scatter(y_test_no_qpo_predicted.flatten(), chained_predictions, label=kernel)\n",
        "\n",
        "ax.set(xlabel='true qpo '+r'$\\nu$', ylabel='predicted qpo '+r'$\\nu$')\n",
        "ax.legend()\n",
        "plt.show()\n",
        "plt.clf()\n",
        "plt.close()"
      ],
      "metadata": {
        "colab": {
          "base_uri": "https://localhost:8080/",
          "height": 626
        },
        "id": "GzZ9t-zOzImj",
        "outputId": "48af0794-2d0b-4b4e-c1d3-40f14af0d599"
      },
      "execution_count": null,
      "outputs": [
        {
          "output_type": "stream",
          "name": "stderr",
          "text": [
            "/usr/local/lib/python3.7/dist-packages/sklearn/svm/_base.py:1208: ConvergenceWarning: Liblinear failed to converge, increase the number of iterations.\n",
            "  ConvergenceWarning,\n",
            "/usr/local/lib/python3.7/dist-packages/sklearn/svm/_base.py:1208: ConvergenceWarning: Liblinear failed to converge, increase the number of iterations.\n",
            "  ConvergenceWarning,\n"
          ]
        },
        {
          "output_type": "display_data",
          "data": {
            "image/png": "[encoded data removed]",
            "text/plain": [
              "<Figure size 900x600 with 1 Axes>"
            ]
          },
          "metadata": {}
        }
      ]
    }
  ]
}