{
  "nbformat": 4,
  "nbformat_minor": 0,
  "metadata": {
    "colab": {
      "name": "regressor_pipeline.ipynb",
      "private_outputs": true,
      "provenance": [],
      "authorship_tag": "ABX9TyMCpPPmtequ3kInbXD29xy5",
      "include_colab_link": true
    },
    "kernelspec": {
      "name": "python3",
      "display_name": "Python 3"
    },
    "language_info": {
      "name": "python"
    }
  },
  "cells": [
    {
      "cell_type": "markdown",
      "metadata": {
        "id": "view-in-github",
        "colab_type": "text"
      },
      "source": [
        "<a href=\"https://colab.research.google.com/github/thissop/DROPTABLE2022/blob/main/MAXI-J1535/code/notebooks/December-%202021-2022/regressor_pipeline.ipynb\" target=\"_parent\"><img src=\"https://colab.research.google.com/assets/colab-badge.svg\" alt=\"Open In Colab\"/></a>"
      ]
    },
    {
      "cell_type": "markdown",
      "source": [
        "# Notes\n",
        "\n",
        "## Hyperparameters\n",
        "\n",
        "* SVM Regressor\n",
        "    * \"One of the commonly used kernel functions is radial basis function (RBF)\"\n",
        "    * C: \"between 0.1 < c < 100\"; I'll do C ⊂ ```{0.1,1,10}``` (default is 1)\n",
        "        * \"If c is small, the penalty for misclassified points is low so a decision boundary with a large margin is chosen at the expense of a greater number of misclassifications\"\n",
        "    * Gamma: how tight the regions are...will use default ```scale```\n",
        "* RF Regressor\n",
        "    * Will use default ```squared_error``` for criterion\n",
        "* Histogram Gradient Boosted Regressor\n",
        "    * Set ```early_stopping``` to False\n",
        "\n",
        "## Misc. \n",
        "### Helpful Snippets\n",
        "* ```.best_params_``` returns best fit params from a search. See below: \n",
        "    ```python3  \n",
        "    random_search = RandomizedSearchCV(estimator = ...)\n",
        "    random_search.fit(...)\n",
        "    best_combination_dict = random_search.best_params_\n",
        "    ```\n",
        "\n",
        "    * Probably going to write my own version of this for better train test splitting...do train test splitting outside of loop. This loop needs to be as efficient as possible."
      ],
      "metadata": {
        "id": "HIVOnDXUOTcu"
      }
    },
    {
      "cell_type": "code",
      "source": [
        "import pandas as pd\n",
        "import numpy as np\n",
        "import matplotlib.pyplot as plt\n",
        "from sklearn.preprocessing import minmax_scale as normalize\n",
        "from sklearn.model_selection import train_test_split\n",
        "from sklearn.neighbors import KNeighborsClassifier\n",
        "from sklearn.metrics import accuracy_score, mean_squared_error, median_absolute_error\n",
        "from sklearn.ensemble import RandomForestRegressor, HistGradientBoostingRegressor, RandomForestClassifier\n",
        "from sklearn.multioutput import RegressorChain\n",
        "from sklearn.svm import SVR\n",
        "from sklearn.svm import LinearSVR\n",
        "from sklearn.model_selection import GridSearchCV, RandomizedSearchCV\n",
        "\n",
        "\n",
        "plt.style.use('seaborn-darkgrid')\n",
        "plt.rcParams['font.family']='serif'\n",
        "plt.rcParams['figure.dpi']=150\n",
        "\n",
        "data_df = pd.read_csv('https://raw.githubusercontent.com/thissop/MAXI-J1535/main/data/processed/fixed_merged.csv?token=AQN5JT7ZW3ZKV5EKEEUCVITB3RP4Y')"
      ],
      "metadata": {
        "id": "RbPTXQjZOUXm"
      },
      "execution_count": null,
      "outputs": []
    },
    {
      "cell_type": "code",
      "source": [
        "approaches_dict = {'svm':{'approach':'drop', 'hyperparameters':{'C':[0.1,1,10]}},\n",
        "                   'rf':{'approach':'flag', 'stat_boundaries':[0.25,5], 'hyperparameters':{'min_samples_leaf':[1, 2, 4],'min_samples_split':[2, 5, 10]}}, \n",
        "                   'hgbr':{'approach':'missing', 'stat_boundaries':[0.25,5]}, 'hyperparameters':{'learning_rate':[0,1,1,10], 'min_samples_leaf':[1, 2, 4], 'l2_regularization':[0,1]}}\n",
        "\n",
        "approaches_dict"
      ],
      "metadata": {
        "id": "Lsv5mHIFOY99"
      },
      "execution_count": null,
      "outputs": []
    },
    {
      "cell_type": "code",
      "source": [
        ""
      ],
      "metadata": {
        "id": "64Wwr--gYZ7T"
      },
      "execution_count": null,
      "outputs": []
    }
  ]
}