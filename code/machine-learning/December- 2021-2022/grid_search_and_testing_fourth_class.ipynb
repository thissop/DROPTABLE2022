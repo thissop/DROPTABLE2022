{
  "nbformat": 4,
  "nbformat_minor": 0,
  "metadata": {
    "colab": {
      "name": "grid search and testing fourth class.ipynb",
      "provenance": [],
      "authorship_tag": "ABX9TyPIFIRKCEtmwyYGZiwKiX0s",
      "include_colab_link": true
    },
    "kernelspec": {
      "name": "python3",
      "display_name": "Python 3"
    },
    "language_info": {
      "name": "python"
    }
  },
  "cells": [
    {
      "cell_type": "markdown",
      "metadata": {
        "id": "view-in-github",
        "colab_type": "text"
      },
      "source": [
        "<a href=\"https://colab.research.google.com/github/thissop/DROPTABLE2022/blob/main/code/machine-learning/December-%202021-2022/grid_search_and_testing_fourth_class.ipynb\" target=\"_parent\"><img src=\"https://colab.research.google.com/assets/colab-badge.svg\" alt=\"Open In Colab\"/></a>"
      ]
    },
    {
      "cell_type": "markdown",
      "source": [
        "# grid search and testing fourth class \n",
        "\n",
        "## Notes\n",
        "\n",
        "* It seems that the default sklearn split quality criterion is squared error, which is the same thing as MSE. Thus, I should report values in terms of MSE // scaled MSE?\n",
        "\n",
        "    * probably use/report the $R^2$ values instead...seems like the sklearn regr.score() is different than OLS $R^2$ for random forest? See this [link](https://scikit-learn.org/stable/modules/generated/sklearn.ensemble.RandomForestRegressor.html#sklearn.ensemble.RandomForestRegressor.score)\n",
        "\n",
        "* Potentially similiar paper in Bio: [link](https://bmcmedinformdecismak.biomedcentral.com/articles/10.1186/s12911-021-01688-3)\n",
        "\n",
        "* what are the current spectral channels included?\n",
        "\n",
        "* to validate the claim about how it's potentially interesting that the RF on counts data \n",
        "\n",
        "* just gotta look into the missclassifications at zero for fourth and normal, and the bottom right corner region for third. "
      ],
      "metadata": {
        "id": "ioau-pLdZWpI"
      }
    },
    {
      "cell_type": "markdown",
      "source": [
        "## testing fourth class"
      ],
      "metadata": {
        "id": "JE54z_ZXhJfm"
      }
    },
    {
      "cell_type": "code",
      "source": [
        "!pip install rebin\n",
        "!pip install shap\n",
        "import shap\n",
        "import graphviz\n",
        "from rebin import rebin \n",
        "import pandas as pd\n",
        "import sklearn\n",
        "import numpy as np \n",
        "import matplotlib.pyplot as plt\n",
        "from sklearn.preprocessing import minmax_scale as normalize\n",
        "from sklearn.preprocessing import MinMaxScaler\n",
        "from sklearn.model_selection import train_test_split\n",
        "from sklearn.neighbors import KNeighborsClassifier\n",
        "from sklearn.metrics import mean_squared_error as mse_score\n",
        "from sklearn.metrics import median_absolute_error as mae_score\n",
        "from sklearn.metrics import accuracy_score as acc_score\n",
        "from sklearn.metrics import r2_score \n",
        "from sklearn.neighbors import KNeighborsClassifier\n",
        "from sklearn.ensemble import RandomForestRegressor\n",
        "from sklearn.linear_model import Ridge, LinearRegression\n",
        "from sklearn.multioutput import RegressorChain\n",
        "from sklearn import utils \n",
        "from sklearn.model_selection import KFold, StratifiedKFold\n",
        "\n",
        "plt.style.use('https://raw.githubusercontent.com/thissop/MAXI-J1535/main/code/misc/stolen_science.mplstyle?token=GHSAT0AAAAAABP54PQO2X2VXMNS256IWOBOYRNCFBA')\n",
        "\n",
        "rs = 4"
      ],
      "metadata": {
        "colab": {
          "base_uri": "https://localhost:8080/",
          "height": 0
        },
        "id": "G1YZCLP-h4C6",
        "outputId": "d9eee8af-996e-4769-8f8c-22d18430cdfa"
      },
      "execution_count": 6,
      "outputs": [
        {
          "output_type": "stream",
          "name": "stdout",
          "text": [
            "Collecting rebin\n",
            "  Downloading rebin-1.0.1-py2.py3-none-any.whl (6.1 kB)\n",
            "Requirement already satisfied: numpy in /usr/local/lib/python3.7/dist-packages (from rebin) (1.21.6)\n",
            "Installing collected packages: rebin\n",
            "Successfully installed rebin-1.0.1\n",
            "Collecting shap\n",
            "  Downloading shap-0.40.0-cp37-cp37m-manylinux2010_x86_64.whl (564 kB)\n",
            "\u001b[K     |████████████████████████████████| 564 kB 5.0 MB/s \n",
            "\u001b[?25hRequirement already satisfied: numpy in /usr/local/lib/python3.7/dist-packages (from shap) (1.21.6)\n",
            "Requirement already satisfied: scikit-learn in /usr/local/lib/python3.7/dist-packages (from shap) (1.0.2)\n",
            "Requirement already satisfied: numba in /usr/local/lib/python3.7/dist-packages (from shap) (0.51.2)\n",
            "Requirement already satisfied: packaging>20.9 in /usr/local/lib/python3.7/dist-packages (from shap) (21.3)\n",
            "Collecting slicer==0.0.7\n",
            "  Downloading slicer-0.0.7-py3-none-any.whl (14 kB)\n",
            "Requirement already satisfied: scipy in /usr/local/lib/python3.7/dist-packages (from shap) (1.4.1)\n",
            "Requirement already satisfied: pandas in /usr/local/lib/python3.7/dist-packages (from shap) (1.3.5)\n",
            "Requirement already satisfied: cloudpickle in /usr/local/lib/python3.7/dist-packages (from shap) (1.3.0)\n",
            "Requirement already satisfied: tqdm>4.25.0 in /usr/local/lib/python3.7/dist-packages (from shap) (4.64.0)\n",
            "Requirement already satisfied: pyparsing!=3.0.5,>=2.0.2 in /usr/local/lib/python3.7/dist-packages (from packaging>20.9->shap) (3.0.8)\n",
            "Requirement already satisfied: llvmlite<0.35,>=0.34.0.dev0 in /usr/local/lib/python3.7/dist-packages (from numba->shap) (0.34.0)\n",
            "Requirement already satisfied: setuptools in /usr/local/lib/python3.7/dist-packages (from numba->shap) (57.4.0)\n",
            "Requirement already satisfied: python-dateutil>=2.7.3 in /usr/local/lib/python3.7/dist-packages (from pandas->shap) (2.8.2)\n",
            "Requirement already satisfied: pytz>=2017.3 in /usr/local/lib/python3.7/dist-packages (from pandas->shap) (2022.1)\n",
            "Requirement already satisfied: six>=1.5 in /usr/local/lib/python3.7/dist-packages (from python-dateutil>=2.7.3->pandas->shap) (1.15.0)\n",
            "Requirement already satisfied: threadpoolctl>=2.0.0 in /usr/local/lib/python3.7/dist-packages (from scikit-learn->shap) (3.1.0)\n",
            "Requirement already satisfied: joblib>=0.11 in /usr/local/lib/python3.7/dist-packages (from scikit-learn->shap) (1.1.0)\n",
            "Installing collected packages: slicer, shap\n",
            "Successfully installed shap-0.40.0 slicer-0.0.7\n"
          ]
        }
      ]
    },
    {
      "cell_type": "code",
      "source": [
        "# methods\n",
        "\n",
        "def norm(x, min, max): \n",
        "    return (x - min) / (max - min)\n",
        "\n",
        "def unnorm(x_, min, max):\n",
        "    return x_*(max-min)+min"
      ],
      "metadata": {
        "id": "briaY_fGh80N"
      },
      "execution_count": 7,
      "outputs": []
    },
    {
      "cell_type": "code",
      "source": [
        "### FOR SPECTRAL INFORMATION!!\n",
        "\n",
        "spectral_df = pd.read_csv('https://raw.githubusercontent.com/thissop/MAXI-J1535/main/code/misc/count_rates_initial_exploration/count_rates_transposed.csv')\n",
        "qpo_df = pd.read_csv('https://raw.githubusercontent.com/thissop/MAXI-J1535/main/data/processed/2022/new_current_qpos.csv').fillna(0)\n",
        "\n",
        "spectral_df.sort_values(by='full_id')\n",
        "qpo_df.sort_values(by='full_id')\n",
        "\n",
        "mask = np.where(np.isfinite(qpo_df['num_qpos']))\n",
        "\n",
        "qpo_df = qpo_df.iloc[mask]\n",
        "\n",
        "spectral_indices = []\n",
        "for i in qpo_df['full_id']: \n",
        "    spectral_indices.append(np.where(spectral_df['full_id']==i)[0][0])\n",
        "\n",
        "spectral_df = spectral_df.iloc[spectral_indices]\n",
        "\n",
        "for i in ['first_freq', 'second_freq', 'first_width', 'second_width', 'first_norm', 'second_norm']: \n",
        "    qpo_df = qpo_df.astype({i:float})\n",
        "\n",
        "for i, j in zip(qpo_df['full_id'], spectral_df['full_id']): \n",
        "    if i!=j: \n",
        "        print('mis-match')\n",
        "        print(i,j)\n",
        "\n",
        "full_ids = np.array(qpo_df['full_id'])"
      ],
      "metadata": {
        "id": "P0CjTDhkieys"
      },
      "execution_count": 32,
      "outputs": []
    },
    {
      "cell_type": "code",
      "source": [
        "all_confidences = np.array(qpo_df['confidence_class'])\n",
        "train_mask = np.logical_and(all_confidences<3, all_confidences>-1)\n",
        "non_zero_mask = np.logical_and(qpo_df['num_qpos']>0, train_mask)\n",
        "test_mask = np.logical_or(all_confidences==3, all_confidences==4)\n",
        "third_mask = np.where(all_confidences==3)\n",
        "fourth_mask = np.where(all_confidences==4)"
      ],
      "metadata": {
        "id": "-sh6O18WigDf"
      },
      "execution_count": 53,
      "outputs": []
    },
    {
      "cell_type": "code",
      "source": [
        "# package x values\n",
        "\n",
        "bins = 25\n",
        "\n",
        "x = []\n",
        "\n",
        "for i in range(len(spectral_df.index)): \n",
        "    counts_row = np.array(spectral_df.iloc[[i]])[0][1:].astype(float) \n",
        "    \n",
        "    rebin_factor = int(np.floor(len(counts_row)/bins))\n",
        "    \n",
        "    rebined = rebin(counts_row, rebin_factor)\n",
        "    x.append(rebined)\n",
        "\n",
        "x = np.array(x)\n",
        "\n",
        "# package y values\n",
        "\n",
        "combined_freqs = np.concatenate((qpo_df['first_freq'], qpo_df['second_freq']))\n",
        "min_freq, max_freq = (np.min(combined_freqs), np.max(combined_freqs))\n",
        "combined_widths = np.concatenate((qpo_df['first_width'], qpo_df['second_width']))\n",
        "min_width, max_width = (np.min(combined_widths), np.max(combined_widths))\n",
        "combined_norms = np.concatenate((qpo_df['first_norm'], qpo_df['second_norm']))\n",
        "min_norm, max_norm = (np.min(combined_norms), np.max(combined_norms))\n",
        "\n",
        "y_col_names = ['first_freq', 'second_freq', 'third_freq']\n",
        "freq1s, freq2s, freq3s = (norm(np.array(qpo_df[arr_name]), min_freq, max_freq) for arr_name in y_col_names)\n",
        "\n",
        "freqs = np.array([], dtype=float).reshape(0,2)\n",
        "widths = np.array([], dtype=float).reshape(0,2)\n",
        "norms = np.array([], dtype=float).reshape(0,2)\n",
        "\n",
        "y_vals = []\n",
        "\n",
        "for i in range(len(freq1s)): \n",
        "    row_matrix = np.array([freq1s[i], freq2s[i], freq3s[i]])\n",
        "    y_vals.append(row_matrix)\n",
        "\n",
        "y_vals = np.array(y_vals)\n",
        "\n",
        "x_vals = x\n",
        "\n",
        "X_train = x[train_mask]\n",
        "y_train = y_vals[train_mask]\n",
        "\n",
        "X_train_no_zero = x[non_zero_mask]\n",
        "y_train_no_zero = y_vals[non_zero_mask]"
      ],
      "metadata": {
        "id": "qBD8pIXuhI1B"
      },
      "execution_count": 56,
      "outputs": []
    },
    {
      "cell_type": "code",
      "source": [
        "regr = RandomForestRegressor()\n",
        "regr.fit(X_train,y_train)\n",
        "\n",
        "regr.score(X_train, y_train)\n",
        "\n",
        "fig, ax = plt.subplots(figsize=(4,4))\n",
        "\n",
        "predictions = regr.predict(X_train)\n",
        "\n",
        "ax.scatter(y_train, predictions)\n",
        "ax.plot((0,1), (0,1))\n",
        "\n",
        "ax.set(xlabel='True Frequency', ylabel='Predicted Frequency')"
      ],
      "metadata": {
        "colab": {
          "base_uri": "https://localhost:8080/",
          "height": 284
        },
        "id": "cNd1We7XiSTQ",
        "outputId": "1b10403f-49b6-4b1b-fcfb-4cd77dd679d7"
      },
      "execution_count": 46,
      "outputs": [
        {
          "output_type": "execute_result",
          "data": {
            "text/plain": [
              "[Text(0, 0.5, 'Predicted Frequency'), Text(0.5, 0, 'True Frequency')]"
            ]
          },
          "metadata": {},
          "execution_count": 46
        },
        {
          "output_type": "display_data",
          "data": {
            "text/plain": [
              "<Figure size 288x288 with 1 Axes>"
            ],
            "image/png": "[encoded data removed]"
          },
          "metadata": {
            "needs_background": "light"
          }
        }
      ]
    },
    {
      "cell_type": "code",
      "source": [
        "from pandas.compat.numpy.function import RESHAPE_DEFAULTS\n",
        "regr = RandomForestRegressor()\n",
        "regr.fit(X_train_no_zero,y_train_no_zero)\n",
        "\n",
        "regr.score(X_train_no_zero, y_train_no_zero)\n",
        "\n",
        "fig, ax = plt.subplots(figsize=(4,4))\n",
        "\n",
        "predictions = regr.predict(X_train_no_zero)\n",
        "\n",
        "ax.scatter(y_train_no_zero, predictions)\n",
        "ax.plot((0,1), (0,1))\n",
        "\n",
        "ax.set(xlabel='True Frequency', ylabel='Predicted Frequency')\n",
        "\n",
        "reshaped_predictions = np.transpose(predictions)\n",
        "reshaped_true = np.transpose(y_train)\n",
        "\n",
        "for i in range(2): \n",
        "    diffs = (reshaped_predictions[i]-reshaped_true[i])**2\n",
        "    print(full_ids[non_zero_mask][np.argsort(diffs)[::-1]][0:10])"
      ],
      "metadata": {
        "colab": {
          "base_uri": "https://localhost:8080/",
          "height": 467
        },
        "id": "nXQo07lxpN6n",
        "outputId": "fe7d8f22-a124-400c-f0fd-99cc1c4915d7"
      },
      "execution_count": 71,
      "outputs": [
        {
          "output_type": "error",
          "ename": "ValueError",
          "evalue": "ignored",
          "traceback": [
            "\u001b[0;31m---------------------------------------------------------------------------\u001b[0m",
            "\u001b[0;31mValueError\u001b[0m                                Traceback (most recent call last)",
            "\u001b[0;32m<ipython-input-71-feec6dcf15ab>\u001b[0m in \u001b[0;36m<module>\u001b[0;34m()\u001b[0m\n\u001b[1;32m     18\u001b[0m \u001b[0;34m\u001b[0m\u001b[0m\n\u001b[1;32m     19\u001b[0m \u001b[0;32mfor\u001b[0m \u001b[0mi\u001b[0m \u001b[0;32min\u001b[0m \u001b[0mrange\u001b[0m\u001b[0;34m(\u001b[0m\u001b[0;36m2\u001b[0m\u001b[0;34m)\u001b[0m\u001b[0;34m:\u001b[0m\u001b[0;34m\u001b[0m\u001b[0;34m\u001b[0m\u001b[0m\n\u001b[0;32m---> 20\u001b[0;31m     \u001b[0mdiffs\u001b[0m \u001b[0;34m=\u001b[0m \u001b[0;34m(\u001b[0m\u001b[0mreshaped_predictions\u001b[0m\u001b[0;34m[\u001b[0m\u001b[0mi\u001b[0m\u001b[0;34m]\u001b[0m\u001b[0;34m-\u001b[0m\u001b[0mreshaped_true\u001b[0m\u001b[0;34m[\u001b[0m\u001b[0mi\u001b[0m\u001b[0;34m]\u001b[0m\u001b[0;34m)\u001b[0m\u001b[0;34m**\u001b[0m\u001b[0;36m2\u001b[0m\u001b[0;34m\u001b[0m\u001b[0;34m\u001b[0m\u001b[0m\n\u001b[0m\u001b[1;32m     21\u001b[0m     \u001b[0mprint\u001b[0m\u001b[0;34m(\u001b[0m\u001b[0mfull_ids\u001b[0m\u001b[0;34m[\u001b[0m\u001b[0mnon_zero_mask\u001b[0m\u001b[0;34m]\u001b[0m\u001b[0;34m[\u001b[0m\u001b[0mnp\u001b[0m\u001b[0;34m.\u001b[0m\u001b[0margsort\u001b[0m\u001b[0;34m(\u001b[0m\u001b[0mdiffs\u001b[0m\u001b[0;34m)\u001b[0m\u001b[0;34m[\u001b[0m\u001b[0;34m:\u001b[0m\u001b[0;34m:\u001b[0m\u001b[0;34m-\u001b[0m\u001b[0;36m1\u001b[0m\u001b[0;34m]\u001b[0m\u001b[0;34m]\u001b[0m\u001b[0;34m[\u001b[0m\u001b[0;36m0\u001b[0m\u001b[0;34m:\u001b[0m\u001b[0;36m10\u001b[0m\u001b[0;34m]\u001b[0m\u001b[0;34m)\u001b[0m\u001b[0;34m\u001b[0m\u001b[0;34m\u001b[0m\u001b[0m\n",
            "\u001b[0;31mValueError\u001b[0m: operands could not be broadcast together with shapes (72,) (260,) "
          ]
        },
        {
          "output_type": "display_data",
          "data": {
            "text/plain": [
              "<Figure size 288x288 with 1 Axes>"
            ],
            "image/png": "[encoded data removed]"
          },
          "metadata": {
            "needs_background": "light"
          }
        }
      ]
    },
    {
      "cell_type": "code",
      "source": [
        "## all third and fourth\n",
        "for mask, label in zip([test_mask, third_mask, fourth_mask], ['third and fourth', 'third', 'fourth']):\n",
        "    y_test = y_vals[mask]\n",
        "    x_test = x_vals[mask]\n",
        "\n",
        "    fig, ax = plt.subplots(figsize=(3,4))\n",
        "\n",
        "    score = regr.score(x_test, y_test)\n",
        "    ax.scatter(y_test, regr.predict(x_test), label='Score: '+f'{score:.2f}')\n",
        "    ax.plot((0,1), (0,1))\n",
        "\n",
        "    ax.set(xlabel='True Frequency', ylabel='Predicted Frequency', title=label)\n",
        "\n",
        "    plt.show()\n",
        "    plt.clf()\n",
        "    plt.close()"
      ],
      "metadata": {
        "colab": {
          "base_uri": "https://localhost:8080/",
          "height": 815
        },
        "id": "4hfR_5CqkDGI",
        "outputId": "e8726cea-65f2-4de4-ab32-7e1f9aa899e4"
      },
      "execution_count": 60,
      "outputs": [
        {
          "output_type": "display_data",
          "data": {
            "text/plain": [
              "<Figure size 216x288 with 1 Axes>"
            ],
            "image/png": "[encoded data removed]"
          },
          "metadata": {
            "needs_background": "light"
          }
        },
        {
          "output_type": "display_data",
          "data": {
            "text/plain": [
              "<Figure size 216x288 with 1 Axes>"
            ],
            "image/png": "[encoded data removed]"
          },
          "metadata": {
            "needs_background": "light"
          }
        },
        {
          "output_type": "display_data",
          "data": {
            "text/plain": [
              "<Figure size 216x288 with 1 Axes>"
            ],
            "image/png": "[encoded data removed]"
          },
          "metadata": {
            "needs_background": "light"
          }
        }
      ]
    },
    {
      "cell_type": "markdown",
      "source": [
        "### Grid Search"
      ],
      "metadata": {
        "id": "NBYZQSYKfHVi"
      }
    },
    {
      "cell_type": "code",
      "source": [
        "from sklearn.metrics import mean_squared_error as mse_score\n",
        "from sklearn.metrics import median_absolute_error as mae_score\n",
        "from sklearn.metrics import accuracy_score as acc_score\n",
        "from sklearn.metrics import r2_score \n",
        "from sklearn.ensemble import RandomForestRegressor\n",
        "def run_grid_search(grid, X, y, n_splits: int = 10, model: str = 'randomforest'): \n",
        "    import numpy as np\n",
        "    from sklearn.model_selection import StratifiedKFold\n",
        "    from sklearn.linear_model import LinearRegression\n",
        "    from sklearn.ensemble import RandomForestRegressor\n",
        "    \n",
        "    skf = StratifiedKFold(n_splits=n_splits)\n",
        "\n",
        "    if model=='randomforest': \n",
        "\n",
        "        grid_dict = {'n_estimators':[50, 100, 500, 1000],\n",
        "                'min_samples_split':[2,4,6,8],\n",
        "                'min_samples_leaf':[1,2,3]}\n",
        "\n",
        "        keys = grid_dict.keys()\n",
        "        grid_matrix = []\n",
        "        grid_scores = []\n",
        "        for i in grid_dict[keys[0]]: \n",
        "            for j in grid_dict[keys[1]]: \n",
        "                for k in grid_dict[keys[2]]: \n",
        "                    combination = [i,j,k]\n",
        "                    grid_matrix.append(combination)\n",
        "\n",
        "        for combination in grid_matrix: \n",
        "            scores = []\n",
        "            for train_index, test_index in skf.split(X, y):\n",
        "\n",
        "                X_train, X_test = X[train_index], X[test_index]\n",
        "                y_train, y_test = y[train_index], y[test_index]\n",
        "\n",
        "                regr = RandomForestRegressor(n_estimators=combination[0], \n",
        "                                             min_samples_split=combination[1], \n",
        "                                             min_samples_leaf=combination[2])\n",
        "                regr.fit(X_train,y_train)\n",
        "\n",
        "                predictions = regr.predict(X_test)\n",
        "                \n",
        "                score = regr.score(y_test, predictions)\n",
        "                scores.append(score)\n",
        "            \n",
        "            grid_scores.append(np.mean(scores))\n",
        "    \n",
        "        return grid_matrix, grid_scores\n",
        "\n",
        "    elif model=='linear':\n",
        "        scores = []\n",
        "        for train_index, test_index in skf.split(X, y):\n",
        "\n",
        "            X_train, X_test = X[train_index], X[test_index]\n",
        "            y_train, y_test = y[train_index], y[test_index]\n",
        "\n",
        "            regr = LinearRegression()\n",
        "            regr.fit(X_train,y_train)\n",
        "\n",
        "            predictions = regr.predict(X_test)\n",
        "            \n",
        "            score = regr.score(y_test, predictions)\n",
        "            scores.append(score)\n",
        "\n",
        "        return scores, np.mean(scores)"
      ],
      "metadata": {
        "id": "CxFTop-LfIoQ"
      },
      "execution_count": 5,
      "outputs": []
    }
  ]
}